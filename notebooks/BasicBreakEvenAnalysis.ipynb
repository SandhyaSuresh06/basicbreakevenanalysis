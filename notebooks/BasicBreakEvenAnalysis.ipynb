{
 "cells": [
  {
   "cell_type": "code",
   "execution_count": 239,
   "id": "9426ee19-c93e-4a47-8b19-1fb067aa59f9",
   "metadata": {},
   "outputs": [
    {
     "name": "stdout",
     "output_type": "stream",
     "text": [
      "The autoreload extension is already loaded. To reload it, use:\n",
      "  %reload_ext autoreload\n"
     ]
    }
   ],
   "source": [
    "%load_ext autoreload\n",
    "%autoreload 2"
   ]
  },
  {
   "cell_type": "code",
   "execution_count": 240,
   "id": "98f920ca-935b-46f4-b3dd-ad0064e74bd9",
   "metadata": {},
   "outputs": [],
   "source": [
    "import numpy as np\n",
    "import pandas as pd\n",
    "import matplotlib.pyplot as plt\n",
    "import seaborn as sns"
   ]
  },
  {
   "cell_type": "code",
   "execution_count": 241,
   "id": "9773d0ce-094d-4677-84cc-1e9ad6b5ab3e",
   "metadata": {},
   "outputs": [],
   "source": [
    "%matplotlib inline"
   ]
  },
  {
   "cell_type": "code",
   "execution_count": 242,
   "id": "99e0e950-d400-4cc2-b4fc-e74e43ab11e3",
   "metadata": {},
   "outputs": [],
   "source": [
    "from whatif import Model\n",
    "from whatif import get_sim_results_df"
   ]
  },
  {
   "cell_type": "code",
   "execution_count": 243,
   "id": "c9baa54b-e738-4956-8254-85a2753ae390",
   "metadata": {},
   "outputs": [],
   "source": [
    "fixed_cost = 5000\n",
    "var_cost = 100\n",
    "selling_price = 115\n",
    "spf_constant = 4900\n",
    "spf_linear = -35\n",
    "spf_quadratic = 0.06\n",
    "demand = spf_quadratic * (selling_price ** 2) + (spf_linear * selling_price) + spf_constant\n",
    "total_var_cost = demand * var_cost\n",
    "total_revenue = demand * selling_price\n",
    "total_cost = fixed_cost + total_var_cost\n",
    "profit = round(total_revenue - total_cost)"
   ]
  },
  {
   "cell_type": "code",
   "execution_count": 244,
   "id": "17174829-3d55-4366-bc26-b278afddf4c7",
   "metadata": {},
   "outputs": [
    {
     "name": "stdout",
     "output_type": "stream",
     "text": [
      "Demand            1668.50 \n",
      "Total Variable Cost 166850.00 \n",
      "Total Cost      171850.00 \n",
      "Total Revenue   191877.50 \n",
      "Profit           20028.00\n"
     ]
    }
   ],
   "source": [
    "message = f\"{'Demand':15}{demand:10.2f} \\n\" \\\n",
    "          f\"{'Total Variable Cost':15}{total_var_cost:10.2f} \\n\" \\\n",
    "          f\"{'Total Cost':15}{total_cost:10.2f} \\n\" \\\n",
    "          f\"{'Total Revenue':15}{total_revenue:10.2f} \\n\" \\\n",
    "          f\"{'Profit':15}{profit:10.2f}\"\n",
    "\n",
    "print(message)"
   ]
  },
  {
   "cell_type": "code",
   "execution_count": 245,
   "id": "cbc7281b-a6fc-4fd2-bc5d-62febd426d60",
   "metadata": {},
   "outputs": [],
   "source": [
    "class SingleProductSPF(Model):\n",
    "    \"\"\"Base model\n",
    "\n",
    "    This model relates profit of a company’s single product to the following inputs. \n",
    "\n",
    "    * there's a fixed cost of manufacturing this product each month\n",
    "    * there's a variable cost per unit,\n",
    "    * we have a known selling price,\n",
    "    * demand is calculated based on historical data on selling price and monthly demand,\n",
    "    * for each unsold item, we can get a partial refund of our unit cost,\n",
    "    * function relating demand and selling price is D = 0.06S^2-35S+4900.\n",
    "\n",
    "    Attributes\n",
    "    ----------\n",
    "    fixed_cost : float or array-like of float, optional\n",
    "        fixed cost of manufacturing the product each month (default 5000.00)\n",
    "    var_cost : float or array-like of float, optional\n",
    "        variable cost per unit (default 100.00)\n",
    "    selling_price : float or array-like of float, optional\n",
    "        Selling price for the product (default 115.00)\n",
    "    spf_constant : float or array-like of float, optional\n",
    "        Constant value involved in the calculation of demand (default 4900.00)\n",
    "    spf_linear : float or array-like of float, optional\n",
    "        Coefficient of the linear degree of the selling price function (default -35)\n",
    "    spf_quadratic : float or array-like of float, optional\n",
    "        Coefficient of the quadratic degree of the selling price function (default 0.06)\n",
    "    \"\"\"\n",
    "    def __init__(self, fixed_cost=5000, var_cost=100, selling_price=115,\n",
    "                 spf_constant=4900, spf_linear=-35, spf_quadratic= 0.06 ):\n",
    "        self.fixed_cost = fixed_cost\n",
    "        self.var_cost = var_cost\n",
    "        self.selling_price = selling_price\n",
    "        self.spf_constant = spf_constant\n",
    "        self.spf_linear = spf_linear\n",
    "        self.spf_quadratic = spf_quadratic\n",
    "        #self.demand = demand\n",
    "\n",
    "    def demand(self):\n",
    "        \"\"\"Compute demand\"\"\"\n",
    "        demand = self.spf_quadratic * (self.selling_price ** 2) \\\n",
    "        + (self.spf_linear * self.selling_price) + self.spf_constant\n",
    "        return demand\n",
    "    \n",
    "    def total_var_cost(self):\n",
    "        \"\"\"Compute total variable cost based on demand and variable cost per unit\"\"\"\n",
    "        return self.demand() * self.var_cost\n",
    "\n",
    "    def total_revenue(self):\n",
    "        \"\"\"Compute total sales revenue based on demand and selling price\"\"\"\n",
    "        return self.demand() * self.selling_price\n",
    "\n",
    "    def total_cost(self):\n",
    "        \"\"\"Compute total cost based on fixed cost and total variable cost\"\"\"\n",
    "        return self.fixed_cost + self.total_var_cost()\n",
    "\n",
    "    def profit(self):\n",
    "        \"\"\"Compute profit based on revenue and cost\"\"\"\n",
    "        profit = self.total_revenue() - self.total_cost()\n",
    "        return profit\n"
   ]
  },
  {
   "cell_type": "code",
   "execution_count": 246,
   "id": "4e713998-7b60-45e4-9d20-60b7dc498002",
   "metadata": {},
   "outputs": [
    {
     "name": "stdout",
     "output_type": "stream",
     "text": [
      "B:\\Sandhya\\Oakland\\Summer_2022\\AAP\\HW2\\basicbreakevenanalysis\\notebooks\n",
      "C:\\Users\\mbala\\anaconda3\\envs\\aap\\python37.zip\n",
      "C:\\Users\\mbala\\anaconda3\\envs\\aap\\DLLs\n",
      "C:\\Users\\mbala\\anaconda3\\envs\\aap\\lib\n",
      "C:\\Users\\mbala\\anaconda3\\envs\\aap\n",
      "\n",
      "C:\\Users\\mbala\\anaconda3\\envs\\aap\\lib\\site-packages\n",
      "C:\\Users\\mbala\\anaconda3\\envs\\aap\\lib\\site-packages\\win32\n",
      "C:\\Users\\mbala\\anaconda3\\envs\\aap\\lib\\site-packages\\win32\\lib\n",
      "C:\\Users\\mbala\\anaconda3\\envs\\aap\\lib\\site-packages\\Pythonwin\n",
      "C:\\Users\\mbala\\anaconda3\\envs\\aap\\lib\\site-packages\\IPython\\extensions\n",
      "C:\\Users\\mbala\\.ipython\n"
     ]
    }
   ],
   "source": [
    "import sys\n",
    "print('\\n'.join(sys.path))"
   ]
  },
  {
   "cell_type": "code",
   "execution_count": 247,
   "id": "b37e8ddf-6d53-4dc0-8f44-035dcbc0e081",
   "metadata": {},
   "outputs": [
    {
     "name": "stdout",
     "output_type": "stream",
     "text": [
      "{'fixed_cost': 5000, 'var_cost': 100, 'selling_price': 115, 'spf_constant': 4900, 'spf_linear': -35, 'spf_quadratic': 0.06}\n",
      "20027.5\n"
     ]
    }
   ],
   "source": [
    "model = SingleProductSPF()\n",
    "print(model)\n",
    "print(model.profit())"
   ]
  },
  {
   "cell_type": "code",
   "execution_count": 248,
   "id": "52ae66a8-e2d7-4516-9ae6-f331f9fe9811",
   "metadata": {},
   "outputs": [],
   "source": [
    "#from sklearn.model_selection._search import ParameterGrid"
   ]
  },
  {
   "cell_type": "code",
   "execution_count": 249,
   "id": "3a39fd0a-e087-47f6-895e-cc3be43e616b",
   "metadata": {},
   "outputs": [
    {
     "name": "stdout",
     "output_type": "stream",
     "text": [
      "{'selling_price': array([ 80,  90, 100, 110, 120, 130, 140])}\n"
     ]
    },
    {
     "data": {
      "text/html": [
       "<div>\n",
       "<style scoped>\n",
       "    .dataframe tbody tr th:only-of-type {\n",
       "        vertical-align: middle;\n",
       "    }\n",
       "\n",
       "    .dataframe tbody tr th {\n",
       "        vertical-align: top;\n",
       "    }\n",
       "\n",
       "    .dataframe thead th {\n",
       "        text-align: right;\n",
       "    }\n",
       "</style>\n",
       "<table border=\"1\" class=\"dataframe\">\n",
       "  <thead>\n",
       "    <tr style=\"text-align: right;\">\n",
       "      <th></th>\n",
       "      <th>selling_price</th>\n",
       "      <th>profit</th>\n",
       "      <th>demand</th>\n",
       "    </tr>\n",
       "  </thead>\n",
       "  <tbody>\n",
       "    <tr>\n",
       "      <th>0</th>\n",
       "      <td>80</td>\n",
       "      <td>-54680.0</td>\n",
       "      <td>2484.0</td>\n",
       "    </tr>\n",
       "    <tr>\n",
       "      <th>1</th>\n",
       "      <td>90</td>\n",
       "      <td>-27360.0</td>\n",
       "      <td>2236.0</td>\n",
       "    </tr>\n",
       "    <tr>\n",
       "      <th>2</th>\n",
       "      <td>100</td>\n",
       "      <td>-5000.0</td>\n",
       "      <td>2000.0</td>\n",
       "    </tr>\n",
       "    <tr>\n",
       "      <th>3</th>\n",
       "      <td>110</td>\n",
       "      <td>12760.0</td>\n",
       "      <td>1776.0</td>\n",
       "    </tr>\n",
       "    <tr>\n",
       "      <th>4</th>\n",
       "      <td>120</td>\n",
       "      <td>26280.0</td>\n",
       "      <td>1564.0</td>\n",
       "    </tr>\n",
       "    <tr>\n",
       "      <th>5</th>\n",
       "      <td>130</td>\n",
       "      <td>35920.0</td>\n",
       "      <td>1364.0</td>\n",
       "    </tr>\n",
       "    <tr>\n",
       "      <th>6</th>\n",
       "      <td>140</td>\n",
       "      <td>42040.0</td>\n",
       "      <td>1176.0</td>\n",
       "    </tr>\n",
       "  </tbody>\n",
       "</table>\n",
       "</div>"
      ],
      "text/plain": [
       "   selling_price   profit  demand\n",
       "0             80 -54680.0  2484.0\n",
       "1             90 -27360.0  2236.0\n",
       "2            100  -5000.0  2000.0\n",
       "3            110  12760.0  1776.0\n",
       "4            120  26280.0  1564.0\n",
       "5            130  35920.0  1364.0\n",
       "6            140  42040.0  1176.0"
      ]
     },
     "execution_count": 249,
     "metadata": {},
     "output_type": "execute_result"
    }
   ],
   "source": [
    "# Specify input ranges for scenarios (dictionary)\n",
    "# 1-way table\n",
    "\n",
    "dt_param_ranges_1 = {'selling_price': np.arange(80, 141, 10)}\n",
    "print(dt_param_ranges_1)\n",
    "\n",
    "# Specify desired outputs (list)\n",
    "outputs = ['profit', 'demand']\n",
    "\n",
    "# Use data_table function to create 1-way data table\n",
    "m1_dt1_df = model.data_table(dt_param_ranges_1, outputs)\n",
    "m1_dt1_df"
   ]
  },
  {
   "cell_type": "code",
   "execution_count": 250,
   "id": "dd0d3ff6-8624-44c5-b351-bd9f91269ecd",
   "metadata": {},
   "outputs": [
    {
     "data": {
      "image/png": "[encoded data removed]",
      "text/plain": [
       "<Figure size 432x288 with 1 Axes>"
      ]
     },
     "metadata": {
      "needs_background": "light"
     },
     "output_type": "display_data"
    }
   ],
   "source": [
    "#Scatter plot of selling price and profit\n",
    "sns.scatterplot(x='selling_price', y='profit', data = m1_dt1_df)\n",
    "sns.lineplot(x='selling_price', y='profit', data = m1_dt1_df)\n",
    "#Adding trendline to the plot\n",
    "ax = sns.regplot(x=\"selling_price\", y=\"profit\", data=m1_dt1_df)\n",
    "plt.title('Selling Price Vs Profit');\n",
    "plt.xlabel('Selling Price')\n",
    "plt.ylabel('Profit');"
   ]
  },
  {
   "cell_type": "markdown",
   "id": "8f1fb7fe-25a6-4d2c-92d6-11169a328af7",
   "metadata": {},
   "source": [
    "> From the above scatter plot, the relationship between selling price and profit seems nonlinear.\n",
    "The quadratic equation of degree two fits well."
   ]
  },
  {
   "cell_type": "markdown",
   "id": "f2c8eea6-e0cd-492c-a0ee-33af4606e1a9",
   "metadata": {},
   "source": [
    "#### 1c – Break Even"
   ]
  },
  {
   "cell_type": "code",
   "execution_count": 251,
   "id": "7b7a0d22-12b7-4b1c-b8c2-05a825771ae6",
   "metadata": {},
   "outputs": [],
   "source": [
    "# Use goal_seek to compute break even selling price\n",
    "break_even_sp = model.goal_seek('profit', 0, 'selling_price', 80, 140, 1000)"
   ]
  },
  {
   "cell_type": "code",
   "execution_count": 252,
   "id": "66cb682e-6d27-49eb-a437-bc0a926bb609",
   "metadata": {},
   "outputs": [
    {
     "name": "stdout",
     "output_type": "stream",
     "text": [
      "102.57578606424767\n"
     ]
    }
   ],
   "source": [
    "print(break_even_sp)"
   ]
  },
  {
   "cell_type": "code",
   "execution_count": 253,
   "id": "a16e0e95-add2-4dc8-b6b6-589b04939804",
   "metadata": {},
   "outputs": [],
   "source": [
    "message_1 = f\"{'Break even selling price':15}{break_even_sp:10.2f}\""
   ]
  },
  {
   "cell_type": "code",
   "execution_count": 254,
   "id": "bff74a34-2129-4122-b399-7a57c288bce2",
   "metadata": {},
   "outputs": [
    {
     "name": "stdout",
     "output_type": "stream",
     "text": [
      "Break even selling price    102.58\n"
     ]
    }
   ],
   "source": [
    "print(message_1)"
   ]
  },
  {
   "cell_type": "markdown",
   "id": "5f0e0db2-5105-408e-a755-717499dea194",
   "metadata": {},
   "source": [
    "#### 1d – 2-way Data Table)\n",
    "\n",
    "sensitivity of profit AND total cost to different combinations of selling price and the variable production cost\n",
    "price range from `$80 to $140 in steps of $10\n",
    "\n",
    "let the variable production cost vary from $85 to $110 in steps of $5"
   ]
  },
  {
   "cell_type": "code",
   "execution_count": 255,
   "id": "b5ef8298-59da-4246-9022-585b54599d1a",
   "metadata": {},
   "outputs": [
    {
     "data": {
      "text/html": [
       "<div>\n",
       "<style scoped>\n",
       "    .dataframe tbody tr th:only-of-type {\n",
       "        vertical-align: middle;\n",
       "    }\n",
       "\n",
       "    .dataframe tbody tr th {\n",
       "        vertical-align: top;\n",
       "    }\n",
       "\n",
       "    .dataframe thead th {\n",
       "        text-align: right;\n",
       "    }\n",
       "</style>\n",
       "<table border=\"1\" class=\"dataframe\">\n",
       "  <thead>\n",
       "    <tr style=\"text-align: right;\">\n",
       "      <th></th>\n",
       "      <th>selling_price</th>\n",
       "      <th>var_cost</th>\n",
       "      <th>profit</th>\n",
       "      <th>total_cost</th>\n",
       "    </tr>\n",
       "  </thead>\n",
       "  <tbody>\n",
       "    <tr>\n",
       "      <th>0</th>\n",
       "      <td>80</td>\n",
       "      <td>85</td>\n",
       "      <td>-17420.0</td>\n",
       "      <td>216140.0</td>\n",
       "    </tr>\n",
       "    <tr>\n",
       "      <th>1</th>\n",
       "      <td>80</td>\n",
       "      <td>90</td>\n",
       "      <td>-29840.0</td>\n",
       "      <td>228560.0</td>\n",
       "    </tr>\n",
       "    <tr>\n",
       "      <th>2</th>\n",
       "      <td>80</td>\n",
       "      <td>95</td>\n",
       "      <td>-42260.0</td>\n",
       "      <td>240980.0</td>\n",
       "    </tr>\n",
       "    <tr>\n",
       "      <th>3</th>\n",
       "      <td>80</td>\n",
       "      <td>100</td>\n",
       "      <td>-54680.0</td>\n",
       "      <td>253400.0</td>\n",
       "    </tr>\n",
       "    <tr>\n",
       "      <th>4</th>\n",
       "      <td>80</td>\n",
       "      <td>105</td>\n",
       "      <td>-67100.0</td>\n",
       "      <td>265820.0</td>\n",
       "    </tr>\n",
       "    <tr>\n",
       "      <th>5</th>\n",
       "      <td>80</td>\n",
       "      <td>110</td>\n",
       "      <td>-79520.0</td>\n",
       "      <td>278240.0</td>\n",
       "    </tr>\n",
       "    <tr>\n",
       "      <th>6</th>\n",
       "      <td>90</td>\n",
       "      <td>85</td>\n",
       "      <td>6180.0</td>\n",
       "      <td>195060.0</td>\n",
       "    </tr>\n",
       "    <tr>\n",
       "      <th>7</th>\n",
       "      <td>90</td>\n",
       "      <td>90</td>\n",
       "      <td>-5000.0</td>\n",
       "      <td>206240.0</td>\n",
       "    </tr>\n",
       "    <tr>\n",
       "      <th>8</th>\n",
       "      <td>90</td>\n",
       "      <td>95</td>\n",
       "      <td>-16180.0</td>\n",
       "      <td>217420.0</td>\n",
       "    </tr>\n",
       "    <tr>\n",
       "      <th>9</th>\n",
       "      <td>90</td>\n",
       "      <td>100</td>\n",
       "      <td>-27360.0</td>\n",
       "      <td>228600.0</td>\n",
       "    </tr>\n",
       "    <tr>\n",
       "      <th>10</th>\n",
       "      <td>90</td>\n",
       "      <td>105</td>\n",
       "      <td>-38540.0</td>\n",
       "      <td>239780.0</td>\n",
       "    </tr>\n",
       "    <tr>\n",
       "      <th>11</th>\n",
       "      <td>90</td>\n",
       "      <td>110</td>\n",
       "      <td>-49720.0</td>\n",
       "      <td>250960.0</td>\n",
       "    </tr>\n",
       "    <tr>\n",
       "      <th>12</th>\n",
       "      <td>100</td>\n",
       "      <td>85</td>\n",
       "      <td>25000.0</td>\n",
       "      <td>175000.0</td>\n",
       "    </tr>\n",
       "    <tr>\n",
       "      <th>13</th>\n",
       "      <td>100</td>\n",
       "      <td>90</td>\n",
       "      <td>15000.0</td>\n",
       "      <td>185000.0</td>\n",
       "    </tr>\n",
       "    <tr>\n",
       "      <th>14</th>\n",
       "      <td>100</td>\n",
       "      <td>95</td>\n",
       "      <td>5000.0</td>\n",
       "      <td>195000.0</td>\n",
       "    </tr>\n",
       "    <tr>\n",
       "      <th>15</th>\n",
       "      <td>100</td>\n",
       "      <td>100</td>\n",
       "      <td>-5000.0</td>\n",
       "      <td>205000.0</td>\n",
       "    </tr>\n",
       "    <tr>\n",
       "      <th>16</th>\n",
       "      <td>100</td>\n",
       "      <td>105</td>\n",
       "      <td>-15000.0</td>\n",
       "      <td>215000.0</td>\n",
       "    </tr>\n",
       "    <tr>\n",
       "      <th>17</th>\n",
       "      <td>100</td>\n",
       "      <td>110</td>\n",
       "      <td>-25000.0</td>\n",
       "      <td>225000.0</td>\n",
       "    </tr>\n",
       "    <tr>\n",
       "      <th>18</th>\n",
       "      <td>110</td>\n",
       "      <td>85</td>\n",
       "      <td>39400.0</td>\n",
       "      <td>155960.0</td>\n",
       "    </tr>\n",
       "    <tr>\n",
       "      <th>19</th>\n",
       "      <td>110</td>\n",
       "      <td>90</td>\n",
       "      <td>30520.0</td>\n",
       "      <td>164840.0</td>\n",
       "    </tr>\n",
       "    <tr>\n",
       "      <th>20</th>\n",
       "      <td>110</td>\n",
       "      <td>95</td>\n",
       "      <td>21640.0</td>\n",
       "      <td>173720.0</td>\n",
       "    </tr>\n",
       "    <tr>\n",
       "      <th>21</th>\n",
       "      <td>110</td>\n",
       "      <td>100</td>\n",
       "      <td>12760.0</td>\n",
       "      <td>182600.0</td>\n",
       "    </tr>\n",
       "    <tr>\n",
       "      <th>22</th>\n",
       "      <td>110</td>\n",
       "      <td>105</td>\n",
       "      <td>3880.0</td>\n",
       "      <td>191480.0</td>\n",
       "    </tr>\n",
       "    <tr>\n",
       "      <th>23</th>\n",
       "      <td>110</td>\n",
       "      <td>110</td>\n",
       "      <td>-5000.0</td>\n",
       "      <td>200360.0</td>\n",
       "    </tr>\n",
       "    <tr>\n",
       "      <th>24</th>\n",
       "      <td>120</td>\n",
       "      <td>85</td>\n",
       "      <td>49740.0</td>\n",
       "      <td>137940.0</td>\n",
       "    </tr>\n",
       "    <tr>\n",
       "      <th>25</th>\n",
       "      <td>120</td>\n",
       "      <td>90</td>\n",
       "      <td>41920.0</td>\n",
       "      <td>145760.0</td>\n",
       "    </tr>\n",
       "    <tr>\n",
       "      <th>26</th>\n",
       "      <td>120</td>\n",
       "      <td>95</td>\n",
       "      <td>34100.0</td>\n",
       "      <td>153580.0</td>\n",
       "    </tr>\n",
       "    <tr>\n",
       "      <th>27</th>\n",
       "      <td>120</td>\n",
       "      <td>100</td>\n",
       "      <td>26280.0</td>\n",
       "      <td>161400.0</td>\n",
       "    </tr>\n",
       "    <tr>\n",
       "      <th>28</th>\n",
       "      <td>120</td>\n",
       "      <td>105</td>\n",
       "      <td>18460.0</td>\n",
       "      <td>169220.0</td>\n",
       "    </tr>\n",
       "    <tr>\n",
       "      <th>29</th>\n",
       "      <td>120</td>\n",
       "      <td>110</td>\n",
       "      <td>10640.0</td>\n",
       "      <td>177040.0</td>\n",
       "    </tr>\n",
       "    <tr>\n",
       "      <th>30</th>\n",
       "      <td>130</td>\n",
       "      <td>85</td>\n",
       "      <td>56380.0</td>\n",
       "      <td>120940.0</td>\n",
       "    </tr>\n",
       "    <tr>\n",
       "      <th>31</th>\n",
       "      <td>130</td>\n",
       "      <td>90</td>\n",
       "      <td>49560.0</td>\n",
       "      <td>127760.0</td>\n",
       "    </tr>\n",
       "    <tr>\n",
       "      <th>32</th>\n",
       "      <td>130</td>\n",
       "      <td>95</td>\n",
       "      <td>42740.0</td>\n",
       "      <td>134580.0</td>\n",
       "    </tr>\n",
       "    <tr>\n",
       "      <th>33</th>\n",
       "      <td>130</td>\n",
       "      <td>100</td>\n",
       "      <td>35920.0</td>\n",
       "      <td>141400.0</td>\n",
       "    </tr>\n",
       "    <tr>\n",
       "      <th>34</th>\n",
       "      <td>130</td>\n",
       "      <td>105</td>\n",
       "      <td>29100.0</td>\n",
       "      <td>148220.0</td>\n",
       "    </tr>\n",
       "    <tr>\n",
       "      <th>35</th>\n",
       "      <td>130</td>\n",
       "      <td>110</td>\n",
       "      <td>22280.0</td>\n",
       "      <td>155040.0</td>\n",
       "    </tr>\n",
       "    <tr>\n",
       "      <th>36</th>\n",
       "      <td>140</td>\n",
       "      <td>85</td>\n",
       "      <td>59680.0</td>\n",
       "      <td>104960.0</td>\n",
       "    </tr>\n",
       "    <tr>\n",
       "      <th>37</th>\n",
       "      <td>140</td>\n",
       "      <td>90</td>\n",
       "      <td>53800.0</td>\n",
       "      <td>110840.0</td>\n",
       "    </tr>\n",
       "    <tr>\n",
       "      <th>38</th>\n",
       "      <td>140</td>\n",
       "      <td>95</td>\n",
       "      <td>47920.0</td>\n",
       "      <td>116720.0</td>\n",
       "    </tr>\n",
       "    <tr>\n",
       "      <th>39</th>\n",
       "      <td>140</td>\n",
       "      <td>100</td>\n",
       "      <td>42040.0</td>\n",
       "      <td>122600.0</td>\n",
       "    </tr>\n",
       "    <tr>\n",
       "      <th>40</th>\n",
       "      <td>140</td>\n",
       "      <td>105</td>\n",
       "      <td>36160.0</td>\n",
       "      <td>128480.0</td>\n",
       "    </tr>\n",
       "    <tr>\n",
       "      <th>41</th>\n",
       "      <td>140</td>\n",
       "      <td>110</td>\n",
       "      <td>30280.0</td>\n",
       "      <td>134360.0</td>\n",
       "    </tr>\n",
       "  </tbody>\n",
       "</table>\n",
       "</div>"
      ],
      "text/plain": [
       "    selling_price  var_cost   profit  total_cost\n",
       "0              80        85 -17420.0    216140.0\n",
       "1              80        90 -29840.0    228560.0\n",
       "2              80        95 -42260.0    240980.0\n",
       "3              80       100 -54680.0    253400.0\n",
       "4              80       105 -67100.0    265820.0\n",
       "5              80       110 -79520.0    278240.0\n",
       "6              90        85   6180.0    195060.0\n",
       "7              90        90  -5000.0    206240.0\n",
       "8              90        95 -16180.0    217420.0\n",
       "9              90       100 -27360.0    228600.0\n",
       "10             90       105 -38540.0    239780.0\n",
       "11             90       110 -49720.0    250960.0\n",
       "12            100        85  25000.0    175000.0\n",
       "13            100        90  15000.0    185000.0\n",
       "14            100        95   5000.0    195000.0\n",
       "15            100       100  -5000.0    205000.0\n",
       "16            100       105 -15000.0    215000.0\n",
       "17            100       110 -25000.0    225000.0\n",
       "18            110        85  39400.0    155960.0\n",
       "19            110        90  30520.0    164840.0\n",
       "20            110        95  21640.0    173720.0\n",
       "21            110       100  12760.0    182600.0\n",
       "22            110       105   3880.0    191480.0\n",
       "23            110       110  -5000.0    200360.0\n",
       "24            120        85  49740.0    137940.0\n",
       "25            120        90  41920.0    145760.0\n",
       "26            120        95  34100.0    153580.0\n",
       "27            120       100  26280.0    161400.0\n",
       "28            120       105  18460.0    169220.0\n",
       "29            120       110  10640.0    177040.0\n",
       "30            130        85  56380.0    120940.0\n",
       "31            130        90  49560.0    127760.0\n",
       "32            130        95  42740.0    134580.0\n",
       "33            130       100  35920.0    141400.0\n",
       "34            130       105  29100.0    148220.0\n",
       "35            130       110  22280.0    155040.0\n",
       "36            140        85  59680.0    104960.0\n",
       "37            140        90  53800.0    110840.0\n",
       "38            140        95  47920.0    116720.0\n",
       "39            140       100  42040.0    122600.0\n",
       "40            140       105  36160.0    128480.0\n",
       "41            140       110  30280.0    134360.0"
      ]
     },
     "execution_count": 255,
     "metadata": {},
     "output_type": "execute_result"
    }
   ],
   "source": [
    "# 2-way table\n",
    "dt_param_ranges_2 = {'selling_price': np.arange(80, 141, 10),\n",
    "                     'var_cost': np.arange(85, 111, 5)}\n",
    "\n",
    "# Specify desired outputs (list)\n",
    "outputs = ['profit', 'total_cost']\n",
    "\n",
    "# Use data_table function to create 1-way data table\n",
    "m2_dt2_df = model.data_table(dt_param_ranges_2, outputs)\n",
    "m2_dt2_df"
   ]
  },
  {
   "cell_type": "code",
   "execution_count": 256,
   "id": "c4c6e8f6-8a1c-4744-8d6b-669d9d92d06f",
   "metadata": {},
   "outputs": [
    {
     "data": {
      "image/png": "[encoded data removed]",
      "text/plain": [
       "<Figure size 648x648 with 7 Axes>"
      ]
     },
     "metadata": {
      "needs_background": "light"
     },
     "output_type": "display_data"
    }
   ],
   "source": [
    "profit_dt_g = sns.FacetGrid(m2_dt2_df, col=\"selling_price\", sharey=True, col_wrap=3)\n",
    "profit_dt_g = profit_dt_g.map(plt.plot, \"var_cost\", \"profit\")"
   ]
  },
  {
   "cell_type": "markdown",
   "id": "781802c7-fc92-46fc-851b-c7a01c3ee59c",
   "metadata": {},
   "source": [
    "> From the above plot we can observe that the maximum profit is achieved when selling price is 140 and variable cost is 85."
   ]
  },
  {
   "cell_type": "markdown",
   "id": "b2be9707-aab8-4afa-9b66-58e9e394bbdd",
   "metadata": {},
   "source": [
    "#### 1e – Digging deeper\n",
    "\n",
    "•\tRedo the Goal Seek but instead of using $80-$140 as your search range, use $80-$250. What happens? Why do you think this happens?\n",
    "\n",
    "•\tRedo your 1-way data table and associated selling price vs profit plot but use $80-$250 as your input range. Now, why do you think that your Goal Seek failed?\n"
   ]
  },
  {
   "cell_type": "code",
   "execution_count": 257,
   "id": "2599b7b1-d74f-4195-bd91-34798b2c6334",
   "metadata": {},
   "outputs": [],
   "source": [
    "# Use goal_seek to compute break even selling price for range 80 to 250\n",
    "break_even_sp_1 = model.goal_seek('profit', 0, 'selling_price', 80, 250, 1000)"
   ]
  },
  {
   "cell_type": "code",
   "execution_count": 258,
   "id": "cd7ad40c-868d-4037-9504-506d18fe8a90",
   "metadata": {},
   "outputs": [
    {
     "name": "stdout",
     "output_type": "stream",
     "text": [
      "None\n"
     ]
    }
   ],
   "source": [
    "print(break_even_sp_1)"
   ]
  },
  {
   "cell_type": "markdown",
   "id": "6ac1d30b-102a-43a6-a1cc-a3785ed1b988",
   "metadata": {},
   "source": [
    "> When the range is changed to 80 - 250. the goal seek failed to converge and the bisection method could not find the root value\n"
   ]
  },
  {
   "cell_type": "code",
   "execution_count": 259,
   "id": "8bcd6c70-5fb7-41db-ab7a-eeb8f0dcb229",
   "metadata": {},
   "outputs": [
    {
     "name": "stdout",
     "output_type": "stream",
     "text": [
      "{'selling_price': array([ 80,  90, 100, 110, 120, 130, 140, 150, 160, 170, 180, 190, 200,\n",
      "       210, 220, 230, 240, 250])}\n"
     ]
    },
    {
     "data": {
      "text/html": [
       "<div>\n",
       "<style scoped>\n",
       "    .dataframe tbody tr th:only-of-type {\n",
       "        vertical-align: middle;\n",
       "    }\n",
       "\n",
       "    .dataframe tbody tr th {\n",
       "        vertical-align: top;\n",
       "    }\n",
       "\n",
       "    .dataframe thead th {\n",
       "        text-align: right;\n",
       "    }\n",
       "</style>\n",
       "<table border=\"1\" class=\"dataframe\">\n",
       "  <thead>\n",
       "    <tr style=\"text-align: right;\">\n",
       "      <th></th>\n",
       "      <th>selling_price</th>\n",
       "      <th>profit</th>\n",
       "      <th>demand</th>\n",
       "    </tr>\n",
       "  </thead>\n",
       "  <tbody>\n",
       "    <tr>\n",
       "      <th>0</th>\n",
       "      <td>80</td>\n",
       "      <td>-54680.0</td>\n",
       "      <td>2484.0</td>\n",
       "    </tr>\n",
       "    <tr>\n",
       "      <th>1</th>\n",
       "      <td>90</td>\n",
       "      <td>-27360.0</td>\n",
       "      <td>2236.0</td>\n",
       "    </tr>\n",
       "    <tr>\n",
       "      <th>2</th>\n",
       "      <td>100</td>\n",
       "      <td>-5000.0</td>\n",
       "      <td>2000.0</td>\n",
       "    </tr>\n",
       "    <tr>\n",
       "      <th>3</th>\n",
       "      <td>110</td>\n",
       "      <td>12760.0</td>\n",
       "      <td>1776.0</td>\n",
       "    </tr>\n",
       "    <tr>\n",
       "      <th>4</th>\n",
       "      <td>120</td>\n",
       "      <td>26280.0</td>\n",
       "      <td>1564.0</td>\n",
       "    </tr>\n",
       "    <tr>\n",
       "      <th>5</th>\n",
       "      <td>130</td>\n",
       "      <td>35920.0</td>\n",
       "      <td>1364.0</td>\n",
       "    </tr>\n",
       "    <tr>\n",
       "      <th>6</th>\n",
       "      <td>140</td>\n",
       "      <td>42040.0</td>\n",
       "      <td>1176.0</td>\n",
       "    </tr>\n",
       "    <tr>\n",
       "      <th>7</th>\n",
       "      <td>150</td>\n",
       "      <td>45000.0</td>\n",
       "      <td>1000.0</td>\n",
       "    </tr>\n",
       "    <tr>\n",
       "      <th>8</th>\n",
       "      <td>160</td>\n",
       "      <td>45160.0</td>\n",
       "      <td>836.0</td>\n",
       "    </tr>\n",
       "    <tr>\n",
       "      <th>9</th>\n",
       "      <td>170</td>\n",
       "      <td>42880.0</td>\n",
       "      <td>684.0</td>\n",
       "    </tr>\n",
       "    <tr>\n",
       "      <th>10</th>\n",
       "      <td>180</td>\n",
       "      <td>38520.0</td>\n",
       "      <td>544.0</td>\n",
       "    </tr>\n",
       "    <tr>\n",
       "      <th>11</th>\n",
       "      <td>190</td>\n",
       "      <td>32440.0</td>\n",
       "      <td>416.0</td>\n",
       "    </tr>\n",
       "    <tr>\n",
       "      <th>12</th>\n",
       "      <td>200</td>\n",
       "      <td>25000.0</td>\n",
       "      <td>300.0</td>\n",
       "    </tr>\n",
       "    <tr>\n",
       "      <th>13</th>\n",
       "      <td>210</td>\n",
       "      <td>16560.0</td>\n",
       "      <td>196.0</td>\n",
       "    </tr>\n",
       "    <tr>\n",
       "      <th>14</th>\n",
       "      <td>220</td>\n",
       "      <td>7480.0</td>\n",
       "      <td>104.0</td>\n",
       "    </tr>\n",
       "    <tr>\n",
       "      <th>15</th>\n",
       "      <td>230</td>\n",
       "      <td>-1880.0</td>\n",
       "      <td>24.0</td>\n",
       "    </tr>\n",
       "    <tr>\n",
       "      <th>16</th>\n",
       "      <td>240</td>\n",
       "      <td>-11160.0</td>\n",
       "      <td>-44.0</td>\n",
       "    </tr>\n",
       "    <tr>\n",
       "      <th>17</th>\n",
       "      <td>250</td>\n",
       "      <td>-20000.0</td>\n",
       "      <td>-100.0</td>\n",
       "    </tr>\n",
       "  </tbody>\n",
       "</table>\n",
       "</div>"
      ],
      "text/plain": [
       "    selling_price   profit  demand\n",
       "0              80 -54680.0  2484.0\n",
       "1              90 -27360.0  2236.0\n",
       "2             100  -5000.0  2000.0\n",
       "3             110  12760.0  1776.0\n",
       "4             120  26280.0  1564.0\n",
       "5             130  35920.0  1364.0\n",
       "6             140  42040.0  1176.0\n",
       "7             150  45000.0  1000.0\n",
       "8             160  45160.0   836.0\n",
       "9             170  42880.0   684.0\n",
       "10            180  38520.0   544.0\n",
       "11            190  32440.0   416.0\n",
       "12            200  25000.0   300.0\n",
       "13            210  16560.0   196.0\n",
       "14            220   7480.0   104.0\n",
       "15            230  -1880.0    24.0\n",
       "16            240 -11160.0   -44.0\n",
       "17            250 -20000.0  -100.0"
      ]
     },
     "execution_count": 259,
     "metadata": {},
     "output_type": "execute_result"
    }
   ],
   "source": [
    "# Specify input ranges for scenarios (dictionary)\n",
    "# 1-way table\n",
    "\n",
    "dt_param_ranges_3 = {'selling_price': np.arange(80, 251, 10)}\n",
    "print(dt_param_ranges_3)\n",
    "\n",
    "# Specify desired outputs (list)\n",
    "outputs = ['profit', 'demand']\n",
    "\n",
    "# Use data_table function to create 1-way data table\n",
    "m3_dt1_df = model.data_table(dt_param_ranges_3, outputs)\n",
    "m3_dt1_df"
   ]
  },
  {
   "cell_type": "code",
   "execution_count": 260,
   "id": "32934dec-c3fd-45d0-8e2a-f2842e897c24",
   "metadata": {},
   "outputs": [
    {
     "data": {
      "image/png": "[encoded data removed]",
      "text/plain": [
       "<Figure size 432x288 with 1 Axes>"
      ]
     },
     "metadata": {
      "needs_background": "light"
     },
     "output_type": "display_data"
    }
   ],
   "source": [
    "#Scatter plot of selling price and profit\n",
    "sns.scatterplot(x='selling_price', y='profit', data = m3_dt1_df)\n",
    "sns.lineplot(x='selling_price', y='profit', data = m3_dt1_df)\n",
    "#Adding trendline to the plot\n",
    "ax = sns.regplot(x=\"selling_price\", y=\"profit\", data=m3_dt1_df)\n",
    "plt.title('Selling Price Vs Profit');\n",
    "plt.xlabel('Selling Price')\n",
    "plt.ylabel('Profit');"
   ]
  },
  {
   "cell_type": "markdown",
   "id": "59ea83ab-5224-41db-b4fb-cd9c5a218368",
   "metadata": {},
   "source": [
    "> From the above plot and the 1-way data table, it is clear that the profit value does not converge to zero. Hence, the goal seek failed."
   ]
  },
  {
   "cell_type": "markdown",
   "id": "2757e8e3-f84c-43e6-bfb2-a982984e2c20",
   "metadata": {},
   "source": [
    "#### 1f – Simulation"
   ]
  },
  {
   "cell_type": "code",
   "execution_count": 261,
   "id": "87b457cf-e546-41d4-8882-064083ee61ce",
   "metadata": {},
   "outputs": [],
   "source": [
    "from numpy.random import default_rng\n",
    "rg = default_rng(4470)"
   ]
  },
  {
   "cell_type": "code",
   "execution_count": 262,
   "id": "e9b9cbe0-63c2-4176-9699-41ac420d6f6f",
   "metadata": {},
   "outputs": [],
   "source": [
    "random_input = {'var_cost': rg.uniform(80, 120, 100)}\n",
    "sim_output = ['profit']"
   ]
  },
  {
   "cell_type": "code",
   "execution_count": 263,
   "id": "c24e1305-a0b8-406e-a37c-f190c631f12d",
   "metadata": {},
   "outputs": [],
   "source": [
    "model3_sim_results = model.simulate(random_input, sim_output)"
   ]
  },
  {
   "cell_type": "code",
   "execution_count": 265,
   "id": "983cddb8-e87d-4c9a-a6c0-005c335b0b16",
   "metadata": {},
   "outputs": [],
   "source": [
    "model3_sim_results_df = get_sim_results_df(model3_sim_results)"
   ]
  },
  {
   "cell_type": "code",
   "execution_count": 266,
   "id": "d40a29ab-5bd5-472b-811b-c6b6e7bb1b81",
   "metadata": {},
   "outputs": [
    {
     "data": {
      "text/html": [
       "<div>\n",
       "<style scoped>\n",
       "    .dataframe tbody tr th:only-of-type {\n",
       "        vertical-align: middle;\n",
       "    }\n",
       "\n",
       "    .dataframe tbody tr th {\n",
       "        vertical-align: top;\n",
       "    }\n",
       "\n",
       "    .dataframe thead th {\n",
       "        text-align: right;\n",
       "    }\n",
       "</style>\n",
       "<table border=\"1\" class=\"dataframe\">\n",
       "  <thead>\n",
       "    <tr style=\"text-align: right;\">\n",
       "      <th></th>\n",
       "      <th>profit</th>\n",
       "      <th>scenario_num</th>\n",
       "    </tr>\n",
       "  </thead>\n",
       "  <tbody>\n",
       "    <tr>\n",
       "      <th>0</th>\n",
       "      <td>22793.336118</td>\n",
       "      <td>0</td>\n",
       "    </tr>\n",
       "    <tr>\n",
       "      <th>1</th>\n",
       "      <td>43371.982227</td>\n",
       "      <td>0</td>\n",
       "    </tr>\n",
       "    <tr>\n",
       "      <th>2</th>\n",
       "      <td>39257.449247</td>\n",
       "      <td>0</td>\n",
       "    </tr>\n",
       "    <tr>\n",
       "      <th>3</th>\n",
       "      <td>30530.501317</td>\n",
       "      <td>0</td>\n",
       "    </tr>\n",
       "    <tr>\n",
       "      <th>4</th>\n",
       "      <td>-8959.808939</td>\n",
       "      <td>0</td>\n",
       "    </tr>\n",
       "    <tr>\n",
       "      <th>...</th>\n",
       "      <td>...</td>\n",
       "      <td>...</td>\n",
       "    </tr>\n",
       "    <tr>\n",
       "      <th>95</th>\n",
       "      <td>36859.993613</td>\n",
       "      <td>0</td>\n",
       "    </tr>\n",
       "    <tr>\n",
       "      <th>96</th>\n",
       "      <td>51279.331055</td>\n",
       "      <td>0</td>\n",
       "    </tr>\n",
       "    <tr>\n",
       "      <th>97</th>\n",
       "      <td>30365.628918</td>\n",
       "      <td>0</td>\n",
       "    </tr>\n",
       "    <tr>\n",
       "      <th>98</th>\n",
       "      <td>-4502.041094</td>\n",
       "      <td>0</td>\n",
       "    </tr>\n",
       "    <tr>\n",
       "      <th>99</th>\n",
       "      <td>40199.937827</td>\n",
       "      <td>0</td>\n",
       "    </tr>\n",
       "  </tbody>\n",
       "</table>\n",
       "<p>100 rows × 2 columns</p>\n",
       "</div>"
      ],
      "text/plain": [
       "          profit  scenario_num\n",
       "0   22793.336118             0\n",
       "1   43371.982227             0\n",
       "2   39257.449247             0\n",
       "3   30530.501317             0\n",
       "4   -8959.808939             0\n",
       "..           ...           ...\n",
       "95  36859.993613             0\n",
       "96  51279.331055             0\n",
       "97  30365.628918             0\n",
       "98  -4502.041094             0\n",
       "99  40199.937827             0\n",
       "\n",
       "[100 rows x 2 columns]"
      ]
     },
     "execution_count": 266,
     "metadata": {},
     "output_type": "execute_result"
    }
   ],
   "source": [
    "model3_sim_results_df"
   ]
  },
  {
   "cell_type": "code",
   "execution_count": 268,
   "id": "b383e0ea-60cf-45e5-8bf5-6e7dec36e5b6",
   "metadata": {},
   "outputs": [
    {
     "data": {
      "image/png": "[encoded data removed]",
      "text/plain": [
       "<Figure size 432x288 with 1 Axes>"
      ]
     },
     "metadata": {
      "needs_background": "light"
     },
     "output_type": "display_data"
    }
   ],
   "source": [
    "plt.title(\"Profit histogram\")\n",
    "plt.xlabel(\"Profit\")\n",
    "plt.ylabel(\"Num observations\")\n",
    "plt.hist('profit',data = model3_sim_results_df, density=False);"
   ]
  },
  {
   "cell_type": "code",
   "execution_count": 270,
   "id": "2d90406a-3524-4f8c-bab7-dc450fcc55f0",
   "metadata": {},
   "outputs": [],
   "source": [
    "profit_sim = model3_sim_results_df['profit']"
   ]
  },
  {
   "cell_type": "code",
   "execution_count": 271,
   "id": "e2fa72ef-60fd-427a-ab35-ea4ca5a927b5",
   "metadata": {},
   "outputs": [],
   "source": [
    "from scipy import stats"
   ]
  },
  {
   "cell_type": "code",
   "execution_count": 272,
   "id": "e3809a5d-e916-4d12-9276-9eeb62882dd7",
   "metadata": {},
   "outputs": [
    {
     "name": "stdout",
     "output_type": "stream",
     "text": [
      "0.22\n"
     ]
    }
   ],
   "source": [
    "print(stats.percentileofscore(profit_sim, 0) / 100.0)"
   ]
  },
  {
   "cell_type": "code",
   "execution_count": 274,
   "id": "2844be61-5bab-4791-9796-b2065dc71141",
   "metadata": {},
   "outputs": [
    {
     "name": "stdout",
     "output_type": "stream",
     "text": [
      "probability that profit is negative based on the simulation is , 22.00%\n"
     ]
    }
   ],
   "source": [
    "print(f'Probability that profit is negative based on the simulation is ,{stats.percentileofscore(profit_sim, 0) / 100.0: .2%}')"
   ]
  },
  {
   "cell_type": "code",
   "execution_count": null,
   "id": "868a05f8-ad1b-451f-ad94-e83814a3731a",
   "metadata": {},
   "outputs": [],
   "source": []
  }
 ],
 "metadata": {
  "kernelspec": {
   "display_name": "aap",
   "language": "python",
   "name": "aap"
  },
  "language_info": {
   "codemirror_mode": {
    "name": "ipython",
    "version": 3
   },
   "file_extension": ".py",
   "mimetype": "text/x-python",
   "name": "python",
   "nbconvert_exporter": "python",
   "pygments_lexer": "ipython3",
   "version": "3.7.13"
  }
 },
 "nbformat": 4,
 "nbformat_minor": 5
}
